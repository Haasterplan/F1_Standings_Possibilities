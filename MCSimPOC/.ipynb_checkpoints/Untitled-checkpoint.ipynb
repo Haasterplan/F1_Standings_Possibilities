{
 "cells": [
  {
   "cell_type": "code",
   "execution_count": 16,
   "id": "645af8c5-9e12-454f-8fb6-beccdfae8a61",
   "metadata": {},
   "outputs": [
    {
     "name": "stdout",
     "output_type": "stream",
     "text": [
      "The autoreload extension is already loaded. To reload it, use:\n",
      "  %reload_ext autoreload\n"
     ]
    }
   ],
   "source": [
    "import sys\n",
    "import time\n",
    "import numpy as np\n",
    "import scipy.stats as st\n",
    "from scipy.stats._continuous_distns import _distn_names\n",
    "import pandas as pd\n",
    "import pickle as pkl\n",
    "import matplotlib.pyplot as plt\n",
    "from MCSim import *\n",
    "%load_ext autoreload\n",
    "%autoreload 2"
   ]
  },
  {
   "cell_type": "code",
   "execution_count": 4,
   "id": "186f0584-e5cb-448b-9233-5288f2d694f3",
   "metadata": {},
   "outputs": [],
   "source": [
    "number_of_entrants=20\n",
    "points_awarded=np.array([1,2,4,6,8,10,12,15,18,20])\n",
    "points_available_discrete_values=np.hstack((np.zeros(number_of_entrants-points_awarded.shape[0]),points_awarded,points_awarded+1))"
   ]
  },
  {
   "cell_type": "code",
   "execution_count": 7,
   "id": "f908bda0-d802-45f5-b3bf-098b1032ffd5",
   "metadata": {},
   "outputs": [
    {
     "name": "stdout",
     "output_type": "stream",
     "text": [
      "6.28 ms ± 52.4 µs per loop (mean ± std. dev. of 7 runs, 100 loops each)\n"
     ]
    }
   ],
   "source": [
    "from MCSim import *\n",
    "%autoreload 2\n",
    "initial_values=np.array([258])\n",
    "samples=10000\n",
    "points_available_discrete_values=np.array([0,25,0,34,26,25,15,25,25,6,27,25,25])\n",
    "races_remaining=8\n",
    "%timeit (values,counts),possibilities=SimulateSeason(initial_values,samples,races_remaining,points_available_discrete_values)"
   ]
  },
  {
   "cell_type": "code",
   "execution_count": 11,
   "id": "0d4740a7-03b8-4a9e-a98f-d21b723f9d2a",
   "metadata": {},
   "outputs": [],
   "source": [
    "from scipy.stats import norm,alpha,beta,rv_histogram\n",
    "densities,bin_edges=np.histogram(possibilities,bins=200,density=True)"
   ]
  },
  {
   "cell_type": "code",
   "execution_count": 17,
   "id": "60d914f2-8f5a-43bd-b261-d239560a0d96",
   "metadata": {},
   "outputs": [
    {
     "data": {
      "text/plain": [
       "['ksone',\n",
       " 'kstwo',\n",
       " 'kstwobign',\n",
       " 'norm',\n",
       " 'alpha',\n",
       " 'anglit',\n",
       " 'arcsine',\n",
       " 'beta',\n",
       " 'betaprime',\n",
       " 'bradford',\n",
       " 'burr',\n",
       " 'burr12',\n",
       " 'fisk',\n",
       " 'cauchy',\n",
       " 'chi',\n",
       " 'chi2',\n",
       " 'cosine',\n",
       " 'dgamma',\n",
       " 'dweibull',\n",
       " 'expon',\n",
       " 'exponnorm',\n",
       " 'exponweib',\n",
       " 'exponpow',\n",
       " 'fatiguelife',\n",
       " 'foldcauchy',\n",
       " 'f',\n",
       " 'foldnorm',\n",
       " 'weibull_min',\n",
       " 'weibull_max',\n",
       " 'genlogistic',\n",
       " 'genpareto',\n",
       " 'genexpon',\n",
       " 'genextreme',\n",
       " 'gamma',\n",
       " 'erlang',\n",
       " 'gengamma',\n",
       " 'genhalflogistic',\n",
       " 'genhyperbolic',\n",
       " 'gompertz',\n",
       " 'gumbel_r',\n",
       " 'gumbel_l',\n",
       " 'halfcauchy',\n",
       " 'halflogistic',\n",
       " 'halfnorm',\n",
       " 'hypsecant',\n",
       " 'gausshyper',\n",
       " 'invgamma',\n",
       " 'invgauss',\n",
       " 'geninvgauss',\n",
       " 'norminvgauss',\n",
       " 'invweibull',\n",
       " 'johnsonsb',\n",
       " 'johnsonsu',\n",
       " 'laplace',\n",
       " 'laplace_asymmetric',\n",
       " 'levy',\n",
       " 'levy_l',\n",
       " 'levy_stable',\n",
       " 'logistic',\n",
       " 'loggamma',\n",
       " 'loglaplace',\n",
       " 'lognorm',\n",
       " 'gilbrat',\n",
       " 'maxwell',\n",
       " 'mielke',\n",
       " 'kappa4',\n",
       " 'kappa3',\n",
       " 'moyal',\n",
       " 'nakagami',\n",
       " 'ncx2',\n",
       " 'ncf',\n",
       " 't',\n",
       " 'nct',\n",
       " 'pareto',\n",
       " 'lomax',\n",
       " 'pearson3',\n",
       " 'powerlaw',\n",
       " 'powerlognorm',\n",
       " 'powernorm',\n",
       " 'rdist',\n",
       " 'rayleigh',\n",
       " 'loguniform',\n",
       " 'reciprocal',\n",
       " 'rice',\n",
       " 'recipinvgauss',\n",
       " 'semicircular',\n",
       " 'skewcauchy',\n",
       " 'skewnorm',\n",
       " 'trapezoid',\n",
       " 'trapz',\n",
       " 'triang',\n",
       " 'truncexpon',\n",
       " 'truncnorm',\n",
       " 'tukeylambda',\n",
       " 'uniform',\n",
       " 'vonmises',\n",
       " 'vonmises_line',\n",
       " 'wald',\n",
       " 'wrapcauchy',\n",
       " 'gennorm',\n",
       " 'halfgennorm',\n",
       " 'crystalball',\n",
       " 'argus',\n",
       " 'studentized_range']"
      ]
     },
     "execution_count": 17,
     "metadata": {},
     "output_type": "execute_result"
    }
   ],
   "source": [
    "_distn_names"
   ]
  },
  {
   "cell_type": "code",
   "execution_count": null,
   "id": "c54fe38c-874d-415b-b4d5-1777a4c501b4",
   "metadata": {},
   "outputs": [],
   "source": []
  }
 ],
 "metadata": {
  "kernelspec": {
   "display_name": "Python 3 (ipykernel)",
   "language": "python",
   "name": "python3"
  },
  "language_info": {
   "codemirror_mode": {
    "name": "ipython",
    "version": 3
   },
   "file_extension": ".py",
   "mimetype": "text/x-python",
   "name": "python",
   "nbconvert_exporter": "python",
   "pygments_lexer": "ipython3",
   "version": "3.8.12"
  }
 },
 "nbformat": 4,
 "nbformat_minor": 5
}

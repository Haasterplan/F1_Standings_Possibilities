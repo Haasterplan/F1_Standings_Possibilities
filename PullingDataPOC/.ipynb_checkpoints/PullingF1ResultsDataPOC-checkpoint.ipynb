{
 "cells": [
  {
   "cell_type": "code",
   "execution_count": 188,
   "id": "10406241-bbb0-456d-8a9b-0999068125a8",
   "metadata": {},
   "outputs": [
    {
     "name": "stdout",
     "output_type": "stream",
     "text": [
      "The autoreload extension is already loaded. To reload it, use:\n",
      "  %reload_ext autoreload\n"
     ]
    }
   ],
   "source": [
    "import sys\n",
    "import time\n",
    "import urllib\n",
    "import requests\n",
    "import colorama\n",
    "import numpy as np\n",
    "import pandas as pd\n",
    "import pickle as pkl\n",
    "import matplotlib.pyplot as plt\n",
    "import bs4 as bs\n",
    "from PullF1ResultsData import *\n",
    "%load_ext autoreload\n",
    "%autoreload 2"
   ]
  },
  {
   "cell_type": "code",
   "execution_count": 189,
   "id": "3ac2c990-ce4d-4d12-a97c-3acd7d1e10c8",
   "metadata": {},
   "outputs": [],
   "source": [
    "url='https://www.formula1.com/en/results.html'"
   ]
  },
  {
   "cell_type": "code",
   "execution_count": 238,
   "id": "19bf0d08-6a3c-4c94-b216-beea582e1b2d",
   "metadata": {},
   "outputs": [
    {
     "name": "stdout",
     "output_type": "stream",
     "text": [
      "Pulling data for race 22 of 22\r"
     ]
    }
   ],
   "source": [
    "from PullF1ResultsData import *\n",
    "%autoreload 2\n",
    "races=GetRaces(2022)"
   ]
  },
  {
   "cell_type": "code",
   "execution_count": 223,
   "id": "b1b6c06c-4a92-4f81-9f50-9a0221cd2952",
   "metadata": {},
   "outputs": [
    {
     "name": "stdout",
     "output_type": "stream",
     "text": [
      "79.9 ns ± 0.426 ns per loop (mean ± std. dev. of 7 runs, 10000000 loops each)\n"
     ]
    }
   ],
   "source": [
    "from ObjectList import *\n",
    "%autoreload 2\n",
    "races_ol=ObjectList(Vals=races)\n",
    "%timeit races_ol[9]"
   ]
  },
  {
   "cell_type": "code",
   "execution_count": 241,
   "id": "80c0fc98-c61c-482c-b635-8747f8e1ea86",
   "metadata": {},
   "outputs": [
    {
     "name": "stdout",
     "output_type": "stream",
     "text": [
      "[datetime.datetime(2022, 5, 29, 0, 0) datetime.datetime(2022, 7, 3, 0, 0)\n",
      " datetime.datetime(2022, 4, 24, 0, 0) datetime.datetime(2022, 5, 22, 0, 0)\n",
      " datetime.datetime(2022, 6, 12, 0, 0) datetime.datetime(2022, 7, 31, 0, 0)\n",
      " datetime.datetime(2022, 10, 9, 0, 0) datetime.datetime(2022, 3, 20, 0, 0)\n",
      " datetime.datetime(2022, 7, 24, 0, 0) datetime.datetime(2022, 6, 19, 0, 0)\n",
      " datetime.datetime(2022, 10, 30, 0, 0)\n",
      " datetime.datetime(2022, 7, 10, 0, 0)\n",
      " datetime.datetime(2022, 11, 13, 0, 0)\n",
      " datetime.datetime(2022, 9, 11, 0, 0) datetime.datetime(2022, 3, 27, 0, 0)\n",
      " datetime.datetime(2022, 10, 23, 0, 0)\n",
      " datetime.datetime(2022, 4, 10, 0, 0) datetime.datetime(2022, 9, 4, 0, 0)\n",
      " datetime.datetime(2022, 8, 28, 0, 0) datetime.datetime(2022, 5, 8, 0, 0)\n",
      " datetime.datetime(2022, 10, 2, 0, 0)\n",
      " datetime.datetime(2022, 11, 20, 0, 0)]\n"
     ]
    }
   ],
   "source": [
    "from ObjectList import *\n",
    "%autoreload 2\n",
    "races_ol=ObjectList(Vals=races)\n",
    "print(races_ol.pull('datetime'))"
   ]
  },
  {
   "cell_type": "code",
   "execution_count": 247,
   "id": "b55e4c76-cc16-4f65-b7b5-1809c1bc3b4c",
   "metadata": {},
   "outputs": [
    {
     "data": {
      "text/plain": [
       "[datetime.datetime(2022, 3, 20, 0, 0),\n",
       " datetime.datetime(2022, 3, 27, 0, 0),\n",
       " datetime.datetime(2022, 4, 10, 0, 0),\n",
       " datetime.datetime(2022, 4, 24, 0, 0),\n",
       " datetime.datetime(2022, 5, 8, 0, 0),\n",
       " datetime.datetime(2022, 5, 22, 0, 0),\n",
       " datetime.datetime(2022, 5, 29, 0, 0),\n",
       " datetime.datetime(2022, 6, 12, 0, 0),\n",
       " datetime.datetime(2022, 6, 19, 0, 0),\n",
       " datetime.datetime(2022, 7, 3, 0, 0),\n",
       " datetime.datetime(2022, 7, 10, 0, 0),\n",
       " datetime.datetime(2022, 7, 24, 0, 0),\n",
       " datetime.datetime(2022, 7, 31, 0, 0),\n",
       " datetime.datetime(2022, 8, 28, 0, 0),\n",
       " datetime.datetime(2022, 9, 4, 0, 0),\n",
       " datetime.datetime(2022, 9, 11, 0, 0),\n",
       " datetime.datetime(2022, 10, 2, 0, 0),\n",
       " datetime.datetime(2022, 10, 9, 0, 0),\n",
       " datetime.datetime(2022, 10, 23, 0, 0),\n",
       " datetime.datetime(2022, 10, 30, 0, 0),\n",
       " datetime.datetime(2022, 11, 13, 0, 0),\n",
       " datetime.datetime(2022, 11, 20, 0, 0)]"
      ]
     },
     "execution_count": 247,
     "metadata": {},
     "output_type": "execute_result"
    }
   ],
   "source": [
    "dta=races_ol.pull('datetime')\n",
    "dta.sort()\n",
    "dta"
   ]
  },
  {
   "cell_type": "code",
   "execution_count": 217,
   "id": "b7867d55-2c99-4a6c-ac52-e9dad030d0c7",
   "metadata": {},
   "outputs": [
    {
     "name": "stdout",
     "output_type": "stream",
     "text": [
      "850 ns ± 2.16 ns per loop (mean ± std. dev. of 7 runs, 1000000 loops each)\n"
     ]
    }
   ],
   "source": [
    "%timeit [race for race in races if race.name == 'great-britain']"
   ]
  },
  {
   "cell_type": "code",
   "execution_count": 190,
   "id": "26df5f96-f018-47bd-9af6-a6a1b158621f",
   "metadata": {},
   "outputs": [],
   "source": [
    "from PullF1ResultsData import *\n",
    "%autoreload 2\n",
    "urls,internal_urls=GetAllWebsiteLinks(url)"
   ]
  },
  {
   "cell_type": "code",
   "execution_count": 191,
   "id": "440826ea-f322-4ed4-a020-7833d06390bc",
   "metadata": {},
   "outputs": [
    {
     "data": {
      "text/plain": [
       "['https://www.formula1.com/en/results.html/2022/races/1112/monaco/race-result.html',\n",
       " 'https://www.formula1.com/en/results.html/2022/races/1114/great-britain/race-result.html',\n",
       " 'https://www.formula1.com/en/results.html/2022/races/1109/italy/race-result.html',\n",
       " 'https://www.formula1.com/en/results.html/2022/races/1111/spain/race-result.html',\n",
       " 'https://www.formula1.com/en/results.html/2022/races/1126/azerbaijan/race-result.html',\n",
       " 'https://www.formula1.com/en/results.html/2022/races/1117/hungary/race-result.html',\n",
       " 'https://www.formula1.com/en/results.html/2022/races/1134/japan/race-result.html',\n",
       " 'https://www.formula1.com/en/results.html/2022/races/1124/bahrain/race-result.html',\n",
       " 'https://www.formula1.com/en/results.html/2022/races/1116/france/race-result.html',\n",
       " 'https://www.formula1.com/en/results.html/2022/races/1113/canada/race-result.html',\n",
       " 'https://www.formula1.com/en/results.html/2022/races/1136/mexico/race-result.html',\n",
       " 'https://www.formula1.com/en/results.html/2022/races/1115/austria/race-result.html',\n",
       " 'https://www.formula1.com/en/results.html/2022/races/1137/brazil/race-result.html',\n",
       " 'https://www.formula1.com/en/results.html/2022/races/1120/italy/race-result.html',\n",
       " 'https://www.formula1.com/en/results.html/2022/races/1125/saudi-arabia/race-result.html',\n",
       " 'https://www.formula1.com/en/results.html/2022/races/1135/united-states/race-result.html',\n",
       " 'https://www.formula1.com/en/results.html/2022/races/1108/australia/race-result.html',\n",
       " 'https://www.formula1.com/en/results.html/2022/races/1119/netherlands/race-result.html',\n",
       " 'https://www.formula1.com/en/results.html/2022/races/1118/belgium/race-result.html',\n",
       " 'https://www.formula1.com/en/results.html/2022/races/1110/miami/race-result.html',\n",
       " 'https://www.formula1.com/en/results.html/2022/races/1133/singapore/race-result.html',\n",
       " 'https://www.formula1.com/en/results.html/2022/races/1138/abu-dhabi/race-result.html']"
      ]
     },
     "execution_count": 191,
     "metadata": {},
     "output_type": "execute_result"
    }
   ],
   "source": [
    "from PullF1ResultsData import *\n",
    "%autoreload 2\n",
    "races_2022_url=RacesYearURL(internal_urls,2022)\n",
    "races_2022_url"
   ]
  },
  {
   "cell_type": "code",
   "execution_count": 6,
   "id": "fef2375b-53c4-4b61-8b9d-148995f931e2",
   "metadata": {},
   "outputs": [
    {
     "data": {
      "text/plain": [
       "'https://www.formula1.com/en/results.html/2022/races/1124/bahrain/race-result.html'"
      ]
     },
     "execution_count": 6,
     "metadata": {},
     "output_type": "execute_result"
    }
   ],
   "source": [
    "races_2022_url[7]"
   ]
  },
  {
   "cell_type": "code",
   "execution_count": 27,
   "id": "5cbd2f94-55fb-4457-942d-0d1d6b7fe04a",
   "metadata": {},
   "outputs": [
    {
     "name": "stdout",
     "output_type": "stream",
     "text": [
      "None\n"
     ]
    }
   ],
   "source": [
    "a=re.search(r'\\/(\\S)\\/race-result',races_2022_url[7])\n",
    "print(a)"
   ]
  },
  {
   "cell_type": "code",
   "execution_count": 58,
   "id": "a3a4d31e-720b-443f-aa11-ef36ef335673",
   "metadata": {},
   "outputs": [
    {
     "name": "stdout",
     "output_type": "stream",
     "text": [
      "None\n"
     ]
    }
   ],
   "source": [
    "test = \"Account Name: firstname.surname; User Name:test.name\"\n",
    "regex = \"(?<=User Name:)\\w+\\.\\w+\"\n",
    "res=re.search(regex,test)\n",
    "print(res)"
   ]
  },
  {
   "cell_type": "code",
   "execution_count": 61,
   "id": "2df2f3f4-f461-4a58-bc2e-921945ec1060",
   "metadata": {},
   "outputs": [
    {
     "name": "stdout",
     "output_type": "stream",
     "text": [
      "<re.Match object; span=(33, 42), match='test.name'>\n"
     ]
    }
   ],
   "source": [
    "test = \"Account Name: firstname.surname; test.name:User Name\"\n",
    "regex = \"\\w+\\.\\w+(?=:User Name)\"\n",
    "res=re.search(regex,test)\n",
    "print(res)"
   ]
  },
  {
   "cell_type": "code",
   "execution_count": 112,
   "id": "ad311003-2d57-478e-b92b-0329e0e360f1",
   "metadata": {},
   "outputs": [
    {
     "name": "stdout",
     "output_type": "stream",
     "text": [
      "https://www.formula1.com/en/results.html/2022/races/1114/great-britain/race-result.html\n",
      "great-britain\n"
     ]
    }
   ],
   "source": [
    "race_name_string=races_2022_url[1]\n",
    "# race_name_string=race_name_string.replace(\"/\",\" \")\n",
    "print(race_name_string)\n",
    "res=re.search(r\"[a-z-]{0,90}(?=/race-result)\",race_name_string)\n",
    "print(res.group(0))"
   ]
  },
  {
   "cell_type": "code",
   "execution_count": 93,
   "id": "7415778f-8934-4d1c-b0fd-08ab7174ba18",
   "metadata": {},
   "outputs": [
    {
     "name": "stdout",
     "output_type": "stream",
     "text": [
      "abcdef\n"
     ]
    }
   ],
   "source": [
    "res=re.search(r\"[a-z]{0,10}\",'abcdef')\n",
    "print(res.group(0))"
   ]
  },
  {
   "cell_type": "code",
   "execution_count": 76,
   "id": "ce884874-2148-4291-9eb1-a5cf6394e6d5",
   "metadata": {},
   "outputs": [
    {
     "name": "stdout",
     "output_type": "stream",
     "text": [
      "thwas was string example....wow!!! thwas was really string\n"
     ]
    }
   ],
   "source": [
    "strr = \"this is string example....wow!!! this is really string\"\n",
    "print(strr.replace(\"is\", \"was\"))"
   ]
  },
  {
   "cell_type": "code",
   "execution_count": 102,
   "id": "20adbc5b-bd22-451e-9e3d-5eed34ff7338",
   "metadata": {},
   "outputs": [],
   "source": [
    "_,internal_urls1=GetAllWebsiteLinks(races_2022_url[7])"
   ]
  },
  {
   "cell_type": "code",
   "execution_count": 152,
   "id": "a5269ba0-f634-4a87-89ff-2ecb6eace606",
   "metadata": {},
   "outputs": [],
   "source": [
    "from datetime import datetime\n",
    "# datetime.strptime(\"21/11/06 16:30\", \"%d/%m/%y %H:%M\")\n",
    "d1=datetime.strptime(\"21 Nov 2006 16:30\", \"%d %b %Y %H:%M\")"
   ]
  },
  {
   "cell_type": "code",
   "execution_count": 153,
   "id": "ec0ca810-4094-4999-8bb7-7ee49314053b",
   "metadata": {},
   "outputs": [
    {
     "data": {
      "text/plain": [
       "True"
      ]
     },
     "execution_count": 153,
     "metadata": {},
     "output_type": "execute_result"
    }
   ],
   "source": [
    "from datetime import datetime\n",
    "today = datetime.today()\n",
    "today>d1"
   ]
  },
  {
   "cell_type": "code",
   "execution_count": 173,
   "id": "491119b7-d8c4-4547-9b10-44d722a0507b",
   "metadata": {},
   "outputs": [
    {
     "name": "stdout",
     "output_type": "stream",
     "text": [
      "<re.Match object; span=(174, 180), match='Sprint'>\n",
      "<re.Match object; span=(73, 79), match='Sprint'>\n"
     ]
    }
   ],
   "source": [
    "def PullResultsTable(url):\n",
    "    try:\n",
    "        source=urllib.request.urlopen(url).read()\n",
    "        soup=bs.BeautifulSoup(source,'lxml')\n",
    "        tables=soup.find_all('p',{'class':'f1-timetable--title'})\n",
    "        # print(type(tables))\n",
    "        print(re.search('Sprint',str(tables)))\n",
    "        # return pd.read_html(str(tables[0]), flavor='bs4', header=[0])\n",
    "    except:\n",
    "        return None\n",
    "PullResultsTable('https://www.formula1.com/en/racing/2022/Brazil.html')\n",
    "PullResultsTable('https://www.formula1.com/en/racing/2022/Austria.html')"
   ]
  },
  {
   "cell_type": "code",
   "execution_count": 174,
   "id": "6af60fcd-340e-4f54-b211-1ae857157534",
   "metadata": {},
   "outputs": [
    {
     "data": {
      "text/plain": [
       "'Great-Britain'"
      ]
     },
     "execution_count": 174,
     "metadata": {},
     "output_type": "execute_result"
    }
   ],
   "source": [
    "'great-britain'.title()"
   ]
  },
  {
   "cell_type": "code",
   "execution_count": 237,
   "id": "8fe9baeb-6605-42d1-8f32-d2efa8bc3517",
   "metadata": {},
   "outputs": [
    {
     "data": {
      "text/plain": [
       "{'url': 'https://www.formula1.com/en/results.html/2022/races/1133/abu-dhabi/race-result.html',\n",
       " 'name': 'abu-dhabi',\n",
       " 'title': 'United_Arab_Emirates',\n",
       " 'year': '2022',\n",
       " 'datetime': datetime.datetime(2022, 10, 2, 0, 0),\n",
       " 'sprint_url': None,\n",
       " 'qualification_url': None,\n",
       " 'fastest_laps_url': None,\n",
       " 'is_finished': False,\n",
       " 'is_sprint_weekend': False,\n",
       " 'race_results': None,\n",
       " 'qualification_results': None,\n",
       " 'fastest_lap_results': None,\n",
       " 'sprint_results': None}"
      ]
     },
     "execution_count": 237,
     "metadata": {},
     "output_type": "execute_result"
    }
   ],
   "source": [
    "from PullF1ResultsData import *\n",
    "%autoreload 2\n",
    "race_exp=Race('https://www.formula1.com/en/results.html/2022/races/1133/abu-dhabi/race-result.html')\n",
    "race_exp.__dict__"
   ]
  },
  {
   "cell_type": "code",
   "execution_count": 198,
   "id": "f721bb67-de17-44b8-93c5-56a1bf7c0ed6",
   "metadata": {},
   "outputs": [
    {
     "data": {
      "text/plain": [
       "{'url': 'https://www.formula1.com/en/results.html/2022/races/1114/great-britain/race-result.html',\n",
       " 'name': 'great-britain',\n",
       " 'title': 'Great_Britain',\n",
       " 'year': '2022',\n",
       " 'datetime': None,\n",
       " 'sprint_url': None,\n",
       " 'qualification_url': 'https://www.formula1.com/en/results.html/2022/races/1114/great-britain/qualifying.html',\n",
       " 'fastest_laps_url': 'https://www.formula1.com/en/results.html/2022/races/1114/great-britain/fastest-laps.html',\n",
       " 'is_finished': True,\n",
       " 'is_sprint_weekend': False,\n",
       " 'race_results':     Unnamed: 0 Pos  No                Driver                           Car  \\\n",
       " 0          NaN   1  55      Carlos Sainz SAI                       Ferrari   \n",
       " 1          NaN   2  11      Sergio Perez PER          Red Bull Racing RBPT   \n",
       " 2          NaN   3  44    Lewis Hamilton HAM                      Mercedes   \n",
       " 3          NaN   4  16   Charles Leclerc LEC                       Ferrari   \n",
       " 4          NaN   5  14   Fernando Alonso ALO                Alpine Renault   \n",
       " 5          NaN   6   4      Lando Norris NOR              McLaren Mercedes   \n",
       " 6          NaN   7   1    Max Verstappen VER          Red Bull Racing RBPT   \n",
       " 7          NaN   8  47   Mick Schumacher MSC                  Haas Ferrari   \n",
       " 8          NaN   9   5  Sebastian Vettel VET  Aston Martin Aramco Mercedes   \n",
       " 9          NaN  10  20   Kevin Magnussen MAG                  Haas Ferrari   \n",
       " 10         NaN  11  18      Lance Stroll STR  Aston Martin Aramco Mercedes   \n",
       " 11         NaN  12   6   Nicholas Latifi LAT             Williams Mercedes   \n",
       " 12         NaN  13   3  Daniel Ricciardo RIC              McLaren Mercedes   \n",
       " 13         NaN  14  22      Yuki Tsunoda TSU               AlphaTauri RBPT   \n",
       " 14         NaN  NC  31      Esteban Ocon OCO                Alpine Renault   \n",
       " 15         NaN  NC  10      Pierre Gasly GAS               AlphaTauri RBPT   \n",
       " 16         NaN  NC  77   Valtteri Bottas BOT            Alfa Romeo Ferrari   \n",
       " 17         NaN  NC  63    George Russell RUS                      Mercedes   \n",
       " 18         NaN  NC  24       Zhou Guanyu ZHO            Alfa Romeo Ferrari   \n",
       " 19         NaN  NC  23   Alexander Albon ALB             Williams Mercedes   \n",
       " \n",
       "     Laps Time/Retired  PTS  Unnamed: 8  \n",
       " 0     52  2:17:50.311   25         NaN  \n",
       " 1     52      +3.779s   18         NaN  \n",
       " 2     52      +6.225s   16         NaN  \n",
       " 3     52      +8.546s   12         NaN  \n",
       " 4     52      +9.571s   10         NaN  \n",
       " 5     52     +11.943s    8         NaN  \n",
       " 6     52     +18.777s    6         NaN  \n",
       " 7     52     +18.995s    4         NaN  \n",
       " 8     52     +22.356s    2         NaN  \n",
       " 9     52     +24.590s    1         NaN  \n",
       " 10    52     +26.147s    0         NaN  \n",
       " 11    52     +32.511s    0         NaN  \n",
       " 12    52     +32.817s    0         NaN  \n",
       " 13    52     +40.910s    0         NaN  \n",
       " 14    37          DNF    0         NaN  \n",
       " 15    26          DNF    0         NaN  \n",
       " 16    20          DNF    0         NaN  \n",
       " 17     0          DNF    0         NaN  \n",
       " 18     0          DNF    0         NaN  \n",
       " 19     0          DNF    0         NaN  ,\n",
       " 'qualification_results':     Unnamed: 0  Pos  No                Driver                           Car  \\\n",
       " 0          NaN    1  55      Carlos Sainz SAI                       Ferrari   \n",
       " 1          NaN    2   1    Max Verstappen VER          Red Bull Racing RBPT   \n",
       " 2          NaN    3  16   Charles Leclerc LEC                       Ferrari   \n",
       " 3          NaN    4  11      Sergio Perez PER          Red Bull Racing RBPT   \n",
       " 4          NaN    5  44    Lewis Hamilton HAM                      Mercedes   \n",
       " 5          NaN    6   4      Lando Norris NOR              McLaren Mercedes   \n",
       " 6          NaN    7  14   Fernando Alonso ALO                Alpine Renault   \n",
       " 7          NaN    8  63    George Russell RUS                      Mercedes   \n",
       " 8          NaN    9  24       Zhou Guanyu ZHO            Alfa Romeo Ferrari   \n",
       " 9          NaN   10   6   Nicholas Latifi LAT             Williams Mercedes   \n",
       " 10         NaN   11  10      Pierre Gasly GAS               AlphaTauri RBPT   \n",
       " 11         NaN   12  77   Valtteri Bottas BOT            Alfa Romeo Ferrari   \n",
       " 12         NaN   13  22      Yuki Tsunoda TSU               AlphaTauri RBPT   \n",
       " 13         NaN   14   3  Daniel Ricciardo RIC              McLaren Mercedes   \n",
       " 14         NaN   15  31      Esteban Ocon OCO                Alpine Renault   \n",
       " 15         NaN   16  23   Alexander Albon ALB             Williams Mercedes   \n",
       " 16         NaN   17  20   Kevin Magnussen MAG                  Haas Ferrari   \n",
       " 17         NaN   18   5  Sebastian Vettel VET  Aston Martin Aramco Mercedes   \n",
       " 18         NaN   19  47   Mick Schumacher MSC                  Haas Ferrari   \n",
       " 19         NaN   20  18      Lance Stroll STR  Aston Martin Aramco Mercedes   \n",
       " \n",
       "           Q1        Q2        Q3  Laps  Unnamed: 9  PTS  \n",
       " 0   1:40.190  1:41.602  1:40.983    26         NaN   25  \n",
       " 1   1:39.129  1:40.655  1:41.055    24         NaN   18  \n",
       " 2   1:39.846  1:41.247  1:41.298    26         NaN   16  \n",
       " 3   1:40.521  1:42.513  1:41.616    26         NaN   12  \n",
       " 4   1:40.428  1:41.062  1:41.995    23         NaN   10  \n",
       " 5   1:41.515  1:41.821  1:42.084    26         NaN    8  \n",
       " 6   1:41.598  1:42.209  1:42.116    23         NaN    6  \n",
       " 7   1:40.028  1:41.725  1:42.161    23         NaN    4  \n",
       " 8   1:40.791  1:42.640  1:42.719    28         NaN    2  \n",
       " 9   1:41.998  1:43.273  2:03.095    24         NaN    1  \n",
       " 10  1:41.680  1:43.702       NaN    19         NaN    0  \n",
       " 11  1:41.396  1:44.232       NaN    20         NaN    0  \n",
       " 12  1:41.893  1:44.311       NaN    19         NaN    0  \n",
       " 13  1:41.933  1:44.355       NaN    18         NaN    0  \n",
       " 14  1:41.730  1:45.190       NaN    17         NaN    0  \n",
       " 15  1:42.078       NaN       NaN    11         NaN    0  \n",
       " 16  1:42.159       NaN       NaN    11         NaN    0  \n",
       " 17  1:42.666       NaN       NaN     9         NaN    0  \n",
       " 18  1:42.708       NaN       NaN    11         NaN    0  \n",
       " 19  1:43.430       NaN       NaN    10         NaN    0  ,\n",
       " 'fastest_lap_results':     Unnamed: 0  Pos  No                Driver                           Car  \\\n",
       " 0          NaN    1  44    Lewis Hamilton HAM                      Mercedes   \n",
       " 1          NaN    2  55      Carlos Sainz SAI                       Ferrari   \n",
       " 2          NaN    3  11      Sergio Perez PER          Red Bull Racing RBPT   \n",
       " 3          NaN    4  16   Charles Leclerc LEC                       Ferrari   \n",
       " 4          NaN    5  14   Fernando Alonso ALO                Alpine Renault   \n",
       " 5          NaN    6   4      Lando Norris NOR              McLaren Mercedes   \n",
       " 6          NaN    7  47   Mick Schumacher MSC                  Haas Ferrari   \n",
       " 7          NaN    8   1    Max Verstappen VER          Red Bull Racing RBPT   \n",
       " 8          NaN    9  18      Lance Stroll STR  Aston Martin Aramco Mercedes   \n",
       " 9          NaN   10   5  Sebastian Vettel VET  Aston Martin Aramco Mercedes   \n",
       " 10         NaN   11   3  Daniel Ricciardo RIC              McLaren Mercedes   \n",
       " 11         NaN   12  20   Kevin Magnussen MAG                  Haas Ferrari   \n",
       " 12         NaN   13   6   Nicholas Latifi LAT             Williams Mercedes   \n",
       " 13         NaN   14  31      Esteban Ocon OCO                Alpine Renault   \n",
       " 14         NaN   15  22      Yuki Tsunoda TSU               AlphaTauri RBPT   \n",
       " 15         NaN   16  10      Pierre Gasly GAS               AlphaTauri RBPT   \n",
       " 16         NaN   17  77   Valtteri Bottas BOT            Alfa Romeo Ferrari   \n",
       " \n",
       "     Lap Time of day      Time  Avg Speed  Unnamed: 9  PTS  \n",
       " 0    52    17:21:12  1:30.510    234.312         NaN   25  \n",
       " 1    44    17:08:55  1:30.813    233.530         NaN   18  \n",
       " 2    47    17:13:33  1:30.937    233.212         NaN   16  \n",
       " 3    52    17:21:14  1:31.282    232.330         NaN   12  \n",
       " 4    47    17:13:35  1:31.609    231.501         NaN   10  \n",
       " 5    47    17:13:36  1:31.645    231.410         NaN    8  \n",
       " 6    48    17:15:13  1:32.109    230.244         NaN    6  \n",
       " 7    44    17:09:02  1:32.354    229.633         NaN    4  \n",
       " 8    52    17:21:32  1:32.379    229.571         NaN    2  \n",
       " 9    52    17:21:28  1:32.471    229.343         NaN    1  \n",
       " 10   34    16:51:26  1:32.644    228.914         NaN    0  \n",
       " 11   52    17:21:30  1:32.661    228.872         NaN    0  \n",
       " 12   48    17:15:20  1:33.286    227.339         NaN    0  \n",
       " 13   37    16:55:37  1:33.537    226.729         NaN    0  \n",
       " 14   51    17:20:13  1:33.832    226.016         NaN    0  \n",
       " 15   18    16:25:51  1:34.614    224.148         NaN    0  \n",
       " 16   19    16:26:59  1:35.103    222.996         NaN    0  ,\n",
       " 'sprint_results': None}"
      ]
     },
     "execution_count": 198,
     "metadata": {},
     "output_type": "execute_result"
    }
   ],
   "source": [
    "from PullF1ResultsData import *\n",
    "%autoreload 2\n",
    "race_exp=Race(races_2022_url[1])\n",
    "race_exp.__dict__"
   ]
  },
  {
   "cell_type": "code",
   "execution_count": 103,
   "id": "3fc2eefc-c547-4fbe-8905-43eb3726e63e",
   "metadata": {},
   "outputs": [
    {
     "data": {
      "text/plain": [
       "['https://www.formula1.com/en/drivers/hall-of-fame.html',\n",
       " 'https://www.formula1.com/en/drivers/lance-stroll.html',\n",
       " 'https://www.formula1.com/en/f1-live-lite.html',\n",
       " 'https://www.formula1.com/en/results.html/1977/races.html',\n",
       " 'https://www.formula1.com/en/drivers/yuki-tsunoda.html',\n",
       " 'https://www.formula1.com/en/toolbar/beyond-the-grid-f1-podcast.html',\n",
       " 'https://www.formula1.com/en/results.html/2015/races.html',\n",
       " 'https://www.formula1.com/en/gaming/esports.html',\n",
       " 'https://www.formula1.com/en/results.html/2022/races/1112/monaco/race-result.html',\n",
       " 'https://www.formula1.com/en/results.html/1961/races.html',\n",
       " 'https://www.formula1.com/en/results.html/1951/races.html',\n",
       " 'https://www.formula1.com/en/teams/Mercedes.html',\n",
       " 'https://www.formula1.com/en/results.html/2010/races.html',\n",
       " 'https://www.formula1.com/en/drivers/esteban-ocon.html',\n",
       " 'https://www.formula1.com/en/results.html/1968/races.html',\n",
       " 'https://www.formula1.com/en/results.html/2022/races/1124/bahrain/practice-1.html',\n",
       " 'https://www.formula1.com/en/results.html/1966/races.html',\n",
       " 'https://www.formula1.com/en/results.html/1982/races.html',\n",
       " 'https://www.formula1.com/en/video.html',\n",
       " 'https://www.formula1.com/en/gaming/f1-clash.html',\n",
       " 'https://www.formula1.com/en/toolbar/terms-of-use.html',\n",
       " 'https://www.formula1.com/en/results.html/2004/races.html',\n",
       " 'https://www.formula1.com/en/drivers/mick-schumacher.html',\n",
       " 'https://www.formula1.com/en/drivers/valtteri-bottas.html',\n",
       " 'https://www.formula1.com/en/results.html/2022/races/1114/great-britain/race-result.html',\n",
       " 'https://www.formula1.com/en/results.html/1960/races.html',\n",
       " 'https://www.formula1.com/en/results.html/2022/races/1124/bahrain/pit-stop-summary.html',\n",
       " 'https://www.formula1.com/en/results.html/1967/races.html',\n",
       " 'https://www.formula1.com/en/gaming.html',\n",
       " 'https://www.formula1.com/en/results.html/2022/races/1124/bahrain/practice-3.html',\n",
       " 'https://www.formula1.com/en/results.html/1978/races.html',\n",
       " 'https://www.formula1.com/en/toolbar/partners.html',\n",
       " 'https://www.formula1.com/en/results.html/2022/races/1109/italy/race-result.html',\n",
       " 'https://www.formula1.com/en/toolbar/f1-corporate-site.html',\n",
       " 'https://www.formula1.com/en/drivers/george-russell.html',\n",
       " 'https://www.formula1.com/en/toolbar/privacy-policy.html',\n",
       " 'https://www.formula1.com/en/drivers/carlos-sainz.html',\n",
       " 'https://www.formula1.com/en/results.html/2022/races/1111/spain/race-result.html',\n",
       " 'https://www.formula1.com/en/results.html/1975/races.html',\n",
       " 'https://www.formula1.com/en/latest.html',\n",
       " 'https://www.formula1.com/en/results.html/2003/races.html',\n",
       " 'https://www.formula1.com/en/results.html/1954/races.html',\n",
       " 'https://www.formula1.com/en/results.html/1988/races.html',\n",
       " 'https://www.formula1.com/en/results.html/1959/races.html',\n",
       " 'https://www.formula1.com/en/results.html/1984/races.html',\n",
       " 'https://www.formula1.com/en/results.html/1990/races.html',\n",
       " 'https://www.formula1.com/en/results/driver-standings.html',\n",
       " 'https://www.formula1.com/en/results.html/2000/races.html',\n",
       " 'https://www.formula1.com/en/results.html/1987/races.html',\n",
       " 'https://www.formula1.com/en/results.html/2014/races.html',\n",
       " 'https://www.formula1.com/en/drivers/lando-norris.html',\n",
       " 'https://www.formula1.com/en/toolbar/guidelines.html',\n",
       " 'https://www.formula1.com/en/drivers/lewis-hamilton.html',\n",
       " 'https://www.formula1.com/en/results.html/1973/races.html',\n",
       " 'https://www.formula1.com/en/results.html/2022/races/1124/bahrain/fastest-laps.html',\n",
       " 'https://www.formula1.com/en/toolbar/official-f1-race-programme.html',\n",
       " 'https://www.formula1.com/en/drivers/pierre-gasly.html',\n",
       " 'https://www.formula1.com/en/teams/Haas-F1-Team.html',\n",
       " 'https://www.formula1.com/en/results.html/1983/races.html',\n",
       " 'https://www.formula1.com/en/results.html/2017/races.html',\n",
       " 'https://www.formula1.com/en/results.html/2022/races/1126/azerbaijan/race-result.html',\n",
       " 'https://www.formula1.com/en/teams/McLaren.html',\n",
       " 'https://www.formula1.com/en/results.html/2018/races.html',\n",
       " 'https://www.formula1.com/en/results.html/2022/races/1117/hungary/race-result.html',\n",
       " 'https://www.formula1.com/en/results.html/2009/races.html',\n",
       " 'https://www.formula1.com/en/results.html/1957/races.html',\n",
       " 'https://www.formula1.com/en/teams/Aston-Martin.html',\n",
       " 'https://www.formula1.com/en/results.html/2022/races/1124/bahrain/qualifying.html',\n",
       " 'https://www.formula1.com/en/results.html/1953/races.html',\n",
       " 'https://www.formula1.com/en/results.html/1972/races.html',\n",
       " 'https://www.formula1.com/en/results.html/1963/races.html',\n",
       " 'https://www.formula1.com/en/results.html/1956/races.html',\n",
       " 'https://www.formula1.com/en/drivers/charles-leclerc.html',\n",
       " 'https://www.formula1.com/en/results.html/2022/races/1134/japan/race-result.html',\n",
       " 'https://www.formula1.com/en/toolbar/become-an-affiliate.html',\n",
       " 'https://www.formula1.com/en/results.html/2022/races/1124/bahrain/race-result.html',\n",
       " 'https://www.formula1.com/en/teams.html',\n",
       " 'https://www.formula1.com/en/drivers/guanyu-zhou.html',\n",
       " 'https://www.formula1.com/en/gaming/f1-play.html',\n",
       " 'https://www.formula1.com/en/gaming/f1-mobile-racing.html',\n",
       " 'https://www.formula1.com/en/results.html/1979/races.html',\n",
       " 'https://www.formula1.com/en/results.html/1997/races.html',\n",
       " 'https://www.formula1.com/en/results.html/2022/races/1116/france/race-result.html',\n",
       " 'https://www.formula1.com/en/results.html/2021/races.html',\n",
       " 'https://www.formula1.com/en/drivers/nicholas-latifi.html',\n",
       " 'https://www.formula1.com/en/results.html/2022/races/1113/canada/race-result.html',\n",
       " 'https://www.formula1.com/en/results.html/1971/races.html',\n",
       " 'https://www.formula1.com/en/results.html/1998/races.html',\n",
       " 'https://www.formula1.com/en/results.html/2012/races.html',\n",
       " 'https://www.formula1.com/en/results/awards.html',\n",
       " 'https://www.formula1.com/en/results.html/1955/races.html',\n",
       " 'https://www.formula1.com/en/results.html/2022/fastest-laps.html',\n",
       " 'https://www.formula1.com/en/toolbar/statement-of-commitment-to-respect-for-human-rights.html',\n",
       " 'https://www.formula1.com/en/toolbar/f1-fan-voice.html',\n",
       " 'https://www.formula1.com/en/f1-live.html',\n",
       " 'https://www.formula1.com/en/results.html/2013/races.html',\n",
       " 'https://www.formula1.com/en/results.html/1995/races.html',\n",
       " 'https://www.formula1.com/en/toolbar/modern-slavery-statement.html',\n",
       " 'https://www.formula1.com/en/results.html/2022/races/1136/mexico/race-result.html',\n",
       " 'https://www.formula1.com/en/results.html/1964/races.html',\n",
       " 'https://www.formula1.com/en/drivers/sergio-perez.html',\n",
       " 'https://www.formula1.com/en/results.html/1969/races.html',\n",
       " 'https://www.formula1.com/en/championship/inside-f1/rules-regs.html',\n",
       " 'https://www.formula1.com/en/gaming/f1-manager-2022.html',\n",
       " 'https://www.formula1.com/en/results.html/2022/drivers.html',\n",
       " 'https://www.formula1.com/en/racing/2022.html',\n",
       " 'https://www.formula1.com/en/results.html/2005/races.html',\n",
       " 'https://www.formula1.com/en/teams/Ferrari.html',\n",
       " 'https://www.formula1.com/en/results.html/1952/races.html',\n",
       " 'https://www.formula1.com/en/toolbar/gender-pay-report.html',\n",
       " 'https://www.formula1.com/en/teams/AlphaTauri.html',\n",
       " 'https://www.formula1.com/en/results.html/2019/races.html',\n",
       " 'https://www.formula1.com/en/results.html/2022/races/1115/austria/race-result.html',\n",
       " 'https://www.formula1.com/en/results.html/1991/races.html',\n",
       " 'https://www.formula1.com/en/gaming/fantasy.html',\n",
       " 'https://www.formula1.com/en/results/latest.html',\n",
       " 'https://www.formula1.com/en/drivers/alexander-albon.html',\n",
       " 'https://www.formula1.com/en/results.html/1970/races.html',\n",
       " 'https://www.formula1.com/en/subscribe-to-f1-tv.html',\n",
       " 'https://www.formula1.com',\n",
       " 'https://www.formula1.com/en/toolbar/legal-notices.html',\n",
       " 'https://www.formula1.com/en/racing/2022/race-programmes.html',\n",
       " 'https://www.formula1.com/en/results.html/2022/races/1124/bahrain/practice-2.html',\n",
       " 'https://www.formula1.com/en/toolbar/faq.html',\n",
       " 'https://www.formula1.com/en/results.html/1996/races.html',\n",
       " 'https://www.formula1.com/en/results.html/1994/races.html',\n",
       " 'https://www.formula1.com/en/toolbar/extreme-innovation-series.html',\n",
       " 'https://www.formula1.com/en/results.html/2006/races.html',\n",
       " 'https://www.formula1.com/en/toolbar/cookies-policy.html',\n",
       " 'https://www.formula1.com/en/results.html/1962/races.html',\n",
       " 'https://www.formula1.com/en/toolbar/code-of-conduct.html',\n",
       " 'https://www.formula1.com/en/results.html/2022/races/1137/brazil/race-result.html',\n",
       " 'https://www.formula1.com/en/results.html/1985/races.html',\n",
       " 'https://www.formula1.com/en/results.html/1980/races.html',\n",
       " 'https://www.formula1.com/en/results.html/2022/races/1120/italy/race-result.html',\n",
       " 'https://www.formula1.com/en/gaming/f1-22-official-console-game.html',\n",
       " 'https://www.formula1.com/en/drivers/kevin-magnussen.html',\n",
       " 'https://www.formula1.com/en/results.html/2011/races.html',\n",
       " 'https://www.formula1.com/en/results.html/2022/races.html',\n",
       " 'https://www.formula1.com/en/drivers/sebastian-vettel.html',\n",
       " 'https://www.formula1.com/en/results.html/1981/races.html',\n",
       " 'https://www.formula1.com/en/results.html/1950/races.html',\n",
       " 'https://www.formula1.com/en/results.html/1993/races.html',\n",
       " 'https://www.formula1.com/en/teams/Red-Bull-Racing.html',\n",
       " 'https://www.formula1.com/en/teams/Alpine.html',\n",
       " 'https://www.formula1.com/en/results.html/2022/races/1125/saudi-arabia/race-result.html',\n",
       " 'https://www.formula1.com/en/drivers/fernando-alonso.html',\n",
       " 'https://www.formula1.com/en/results.html/1992/races.html',\n",
       " 'https://www.formula1.com/en/results.html/2022/races/1135/united-states/race-result.html',\n",
       " 'https://www.formula1.com/en/results.html/2022/races/1124/bahrain/starting-grid.html',\n",
       " 'https://www.formula1.com/en/results.html/2022/races/1108/australia/race-result.html',\n",
       " 'https://www.formula1.com/en/results.html/1986/races.html',\n",
       " 'https://www.formula1.com/en/results.html/2022/races/1119/netherlands/race-result.html',\n",
       " 'https://www.formula1.com/en/results.html/2022/races/1118/belgium/race-result.html',\n",
       " 'https://www.formula1.com/en/results.html/2008/races.html',\n",
       " 'https://www.formula1.com/en.html',\n",
       " 'https://www.formula1.com/en/results.html/2007/races.html',\n",
       " 'https://www.formula1.com/en/toolbar/contacts.html',\n",
       " 'https://www.formula1.com/en/results.html/1989/races.html',\n",
       " 'https://www.formula1.com/en/drivers/daniel-ricciardo.html',\n",
       " 'https://www.formula1.com/en/results.html/1999/races.html',\n",
       " 'https://www.formula1.com/en/results.html/1974/races.html',\n",
       " 'https://www.formula1.com/en/results.html/2022/races/1110/miami/race-result.html',\n",
       " 'https://www.formula1.com/en/results.html/2002/races.html',\n",
       " 'https://www.formula1.com/en/drivers.html',\n",
       " 'https://www.formula1.com/en/results.html/1965/races.html',\n",
       " 'https://www.formula1.com/en/results.html/1958/races.html',\n",
       " 'https://www.formula1.com/en/results.html/2020/races.html',\n",
       " 'https://www.formula1.com/en/results.html/2022/team.html',\n",
       " 'https://www.formula1.com/en/results.html/2022/races/1133/singapore/race-result.html',\n",
       " 'https://www.formula1.com/en/results.html/2022/races/1138/abu-dhabi/race-result.html',\n",
       " 'https://www.formula1.com/en/results.html/2016/races.html',\n",
       " 'https://www.formula1.com/en/drivers/max-verstappen.html',\n",
       " 'https://www.formula1.com/en/teams/Williams.html',\n",
       " 'https://www.formula1.com/en/results.html',\n",
       " 'https://www.formula1.com/en/results.html/1976/races.html',\n",
       " 'https://www.formula1.com/en/toolbar/Anti-Bribery.html',\n",
       " 'https://www.formula1.com/en/results/archive-1950-2016.html',\n",
       " 'https://www.formula1.com/en/results.html/2001/races.html',\n",
       " 'https://www.formula1.com/en/teams/Alfa-Romeo-Racing.html',\n",
       " 'https://www.formula1.com/en/results/constructor-standings.html']"
      ]
     },
     "execution_count": 103,
     "metadata": {},
     "output_type": "execute_result"
    }
   ],
   "source": [
    "internal_urls1"
   ]
  }
 ],
 "metadata": {
  "kernelspec": {
   "display_name": "Python 3 (ipykernel)",
   "language": "python",
   "name": "python3"
  },
  "language_info": {
   "codemirror_mode": {
    "name": "ipython",
    "version": 3
   },
   "file_extension": ".py",
   "mimetype": "text/x-python",
   "name": "python",
   "nbconvert_exporter": "python",
   "pygments_lexer": "ipython3",
   "version": "3.8.12"
  }
 },
 "nbformat": 4,
 "nbformat_minor": 5
}

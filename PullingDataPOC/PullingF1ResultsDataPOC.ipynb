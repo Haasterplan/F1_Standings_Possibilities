{
 "cells": [
  {
   "cell_type": "code",
   "execution_count": 1,
   "id": "10406241-bbb0-456d-8a9b-0999068125a8",
   "metadata": {},
   "outputs": [],
   "source": [
    "import sys\n",
    "import time\n",
    "import urllib\n",
    "import requests\n",
    "import colorama\n",
    "import numpy as np\n",
    "import pandas as pd\n",
    "import pickle as pkl\n",
    "import matplotlib.pyplot as plt\n",
    "import bs4 as bs\n",
    "from PullF1ResultsData import *\n",
    "%load_ext autoreload\n",
    "%autoreload 2"
   ]
  },
  {
   "cell_type": "code",
   "execution_count": 2,
   "id": "3ac2c990-ce4d-4d12-a97c-3acd7d1e10c8",
   "metadata": {},
   "outputs": [],
   "source": [
    "url='https://www.formula1.com/en/results.html'"
   ]
  },
  {
   "cell_type": "code",
   "execution_count": 24,
   "id": "19bf0d08-6a3c-4c94-b216-beea582e1b2d",
   "metadata": {},
   "outputs": [
    {
     "name": "stdout",
     "output_type": "stream",
     "text": [
      "Pulling data for race 22 of 22\r"
     ]
    }
   ],
   "source": [
    "from PullF1ResultsData import *\n",
    "%autoreload 2\n",
    "races=GetRaces(2022)"
   ]
  },
  {
   "cell_type": "code",
   "execution_count": 26,
   "id": "96cbbf07-2f28-49bd-9e0b-c9acc963edac",
   "metadata": {},
   "outputs": [],
   "source": [
    "from PullF1ResultsData import *\n",
    "%autoreload 2\n",
    "races=GetRaces(2022,load_file_name='races.pkl')"
   ]
  },
  {
   "cell_type": "code",
   "execution_count": 20,
   "id": "b1b6c06c-4a92-4f81-9f50-9a0221cd2952",
   "metadata": {},
   "outputs": [
    {
     "name": "stdout",
     "output_type": "stream",
     "text": [
      "138 ns ± 0.297 ns per loop (mean ± std. dev. of 7 runs, 10000000 loops each)\n"
     ]
    }
   ],
   "source": [
    "from ObjectList import *\n",
    "%autoreload 2\n",
    "races_ol=ObjectList(Vals=races)\n",
    "%timeit races_ol[9]"
   ]
  },
  {
   "cell_type": "code",
   "execution_count": 13,
   "id": "c4ffde29-b267-4e9b-aea2-2413e6c756b1",
   "metadata": {},
   "outputs": [
    {
     "data": {
      "text/plain": [
       "[<PullF1ResultsData.Race at 0x7fca50145340>,\n",
       " <PullF1ResultsData.Race at 0x7fca501cc4c0>,\n",
       " <PullF1ResultsData.Race at 0x7fca509aae50>,\n",
       " <PullF1ResultsData.Race at 0x7fca503cdb50>,\n",
       " <PullF1ResultsData.Race at 0x7fca50af47f0>,\n",
       " <PullF1ResultsData.Race at 0x7fca5059b160>,\n",
       " <PullF1ResultsData.Race at 0x7fca4ffcf850>,\n",
       " <PullF1ResultsData.Race at 0x7fca507c98e0>,\n",
       " <PullF1ResultsData.Race at 0x7fca50595bb0>,\n",
       " <PullF1ResultsData.Race at 0x7fca4fe0b5b0>,\n",
       " <PullF1ResultsData.Race at 0x7fca508fa370>,\n",
       " <PullF1ResultsData.Race at 0x7fca503ada30>,\n",
       " <PullF1ResultsData.Race at 0x7fca4fdf5040>,\n",
       " <PullF1ResultsData.Race at 0x7fca4ff23550>,\n",
       " <PullF1ResultsData.Race at 0x7fca50862f40>,\n",
       " <PullF1ResultsData.Race at 0x7fca500d4940>,\n",
       " <PullF1ResultsData.Race at 0x7fca5080b700>,\n",
       " <PullF1ResultsData.Race at 0x7fca5081ac10>,\n",
       " <PullF1ResultsData.Race at 0x7fca509aa610>,\n",
       " <PullF1ResultsData.Race at 0x7fca50132640>,\n",
       " <PullF1ResultsData.Race at 0x7fca5072d2b0>,\n",
       " <PullF1ResultsData.Race at 0x7fca5068f130>]"
      ]
     },
     "execution_count": 13,
     "metadata": {},
     "output_type": "execute_result"
    }
   ],
   "source": [
    "from ObjectList import *\n",
    "%autoreload 2\n",
    "races_ol=ObjectList(Vals=races)\n",
    "races_ol[7, 16, 0, 11, 6, 10, 19, 20, 3, 5, 9, 18, 21, 8, 4, 1, 12, 17, 14, 2, 13, 15]"
   ]
  },
  {
   "cell_type": "code",
   "execution_count": 23,
   "id": "adfb6587-f486-459c-ad08-0069d76435c3",
   "metadata": {},
   "outputs": [
    {
     "data": {
      "text/plain": [
       "[datetime.datetime(2022, 3, 20, 0, 0),\n",
       " datetime.datetime(2022, 3, 27, 0, 0),\n",
       " datetime.datetime(2022, 4, 10, 0, 0),\n",
       " datetime.datetime(2022, 4, 24, 0, 0),\n",
       " datetime.datetime(2022, 5, 8, 0, 0),\n",
       " datetime.datetime(2022, 5, 22, 0, 0),\n",
       " datetime.datetime(2022, 5, 29, 0, 0),\n",
       " datetime.datetime(2022, 6, 12, 0, 0),\n",
       " datetime.datetime(2022, 6, 19, 0, 0),\n",
       " datetime.datetime(2022, 7, 3, 0, 0),\n",
       " datetime.datetime(2022, 7, 10, 0, 0),\n",
       " datetime.datetime(2022, 7, 24, 0, 0),\n",
       " datetime.datetime(2022, 7, 31, 0, 0),\n",
       " datetime.datetime(2022, 8, 28, 0, 0),\n",
       " datetime.datetime(2022, 9, 4, 0, 0),\n",
       " datetime.datetime(2022, 9, 11, 0, 0),\n",
       " datetime.datetime(2022, 10, 2, 0, 0),\n",
       " datetime.datetime(2022, 10, 9, 0, 0),\n",
       " datetime.datetime(2022, 10, 23, 0, 0),\n",
       " datetime.datetime(2022, 10, 30, 0, 0),\n",
       " datetime.datetime(2022, 11, 13, 0, 0),\n",
       " datetime.datetime(2022, 11, 20, 0, 0)]"
      ]
     },
     "execution_count": 23,
     "metadata": {},
     "output_type": "execute_result"
    }
   ],
   "source": [
    "from ObjectList import *\n",
    "%autoreload 2\n",
    "races_ol=ObjectList(races)\n",
    "races_ol=races_ol.sort('datetime')\n",
    "races_ol.pull('datetime')"
   ]
  },
  {
   "cell_type": "code",
   "execution_count": 6,
   "id": "80c0fc98-c61c-482c-b635-8747f8e1ea86",
   "metadata": {},
   "outputs": [
    {
     "name": "stdout",
     "output_type": "stream",
     "text": [
      "[datetime.datetime(2022, 4, 10, 0, 0), datetime.datetime(2022, 9, 11, 0, 0), datetime.datetime(2022, 10, 30, 0, 0), datetime.datetime(2022, 6, 19, 0, 0), datetime.datetime(2022, 9, 4, 0, 0), datetime.datetime(2022, 7, 3, 0, 0), datetime.datetime(2022, 5, 8, 0, 0), datetime.datetime(2022, 3, 20, 0, 0), datetime.datetime(2022, 8, 28, 0, 0), datetime.datetime(2022, 7, 10, 0, 0), datetime.datetime(2022, 5, 22, 0, 0), datetime.datetime(2022, 4, 24, 0, 0), datetime.datetime(2022, 10, 2, 0, 0), datetime.datetime(2022, 11, 13, 0, 0), datetime.datetime(2022, 10, 23, 0, 0), datetime.datetime(2022, 11, 20, 0, 0), datetime.datetime(2022, 3, 27, 0, 0), datetime.datetime(2022, 10, 9, 0, 0), datetime.datetime(2022, 7, 24, 0, 0), datetime.datetime(2022, 5, 29, 0, 0), datetime.datetime(2022, 6, 12, 0, 0), datetime.datetime(2022, 7, 31, 0, 0)]\n"
     ]
    }
   ],
   "source": [
    "from ObjectList import *\n",
    "%autoreload 2\n",
    "races_ol=ObjectList(races)\n",
    "print(races_ol.pull('datetime'))"
   ]
  },
  {
   "cell_type": "code",
   "execution_count": 7,
   "id": "8a420bac-6f4d-4e49-a4bb-1031e0a4ea89",
   "metadata": {},
   "outputs": [
    {
     "name": "stdout",
     "output_type": "stream",
     "text": [
      "[7, 16, 0, 11, 6, 10, 19, 20, 3, 5, 9, 18, 21, 8, 4, 1, 12, 17, 14, 2, 13, 15]\n"
     ]
    }
   ],
   "source": [
    "from ObjectList import *\n",
    "%autoreload 2\n",
    "races_ol=ObjectList(races)\n",
    "print(races_ol.argsort('datetime'))"
   ]
  },
  {
   "cell_type": "code",
   "execution_count": null,
   "id": "b55e4c76-cc16-4f65-b7b5-1809c1bc3b4c",
   "metadata": {},
   "outputs": [],
   "source": [
    "dta=races_ol.pull('datetime')\n",
    "dta.sort()\n",
    "dta"
   ]
  },
  {
   "cell_type": "code",
   "execution_count": null,
   "id": "b7867d55-2c99-4a6c-ac52-e9dad030d0c7",
   "metadata": {},
   "outputs": [],
   "source": [
    "%timeit [race for race in races if race.name == 'great-britain']"
   ]
  },
  {
   "cell_type": "code",
   "execution_count": null,
   "id": "26df5f96-f018-47bd-9af6-a6a1b158621f",
   "metadata": {},
   "outputs": [],
   "source": [
    "from PullF1ResultsData import *\n",
    "%autoreload 2\n",
    "urls,internal_urls=GetAllWebsiteLinks(url)"
   ]
  },
  {
   "cell_type": "code",
   "execution_count": null,
   "id": "440826ea-f322-4ed4-a020-7833d06390bc",
   "metadata": {},
   "outputs": [],
   "source": [
    "from PullF1ResultsData import *\n",
    "%autoreload 2\n",
    "races_2022_url=RacesYearURL(internal_urls,2022)\n",
    "races_2022_url"
   ]
  },
  {
   "cell_type": "code",
   "execution_count": null,
   "id": "fef2375b-53c4-4b61-8b9d-148995f931e2",
   "metadata": {},
   "outputs": [],
   "source": [
    "races_2022_url[7]"
   ]
  },
  {
   "cell_type": "code",
   "execution_count": null,
   "id": "5cbd2f94-55fb-4457-942d-0d1d6b7fe04a",
   "metadata": {},
   "outputs": [],
   "source": [
    "a=re.search(r'\\/(\\S)\\/race-result',races_2022_url[7])\n",
    "print(a)"
   ]
  },
  {
   "cell_type": "code",
   "execution_count": null,
   "id": "a3a4d31e-720b-443f-aa11-ef36ef335673",
   "metadata": {},
   "outputs": [],
   "source": [
    "test = \"Account Name: firstname.surname; User Name:test.name\"\n",
    "regex = \"(?<=User Name:)\\w+\\.\\w+\"\n",
    "res=re.search(regex,test)\n",
    "print(res)"
   ]
  },
  {
   "cell_type": "code",
   "execution_count": null,
   "id": "2df2f3f4-f461-4a58-bc2e-921945ec1060",
   "metadata": {},
   "outputs": [],
   "source": [
    "test = \"Account Name: firstname.surname; test.name:User Name\"\n",
    "regex = \"\\w+\\.\\w+(?=:User Name)\"\n",
    "res=re.search(regex,test)\n",
    "print(res)"
   ]
  },
  {
   "cell_type": "code",
   "execution_count": null,
   "id": "ad311003-2d57-478e-b92b-0329e0e360f1",
   "metadata": {},
   "outputs": [],
   "source": [
    "race_name_string=races_2022_url[1]\n",
    "# race_name_string=race_name_string.replace(\"/\",\" \")\n",
    "print(race_name_string)\n",
    "res=re.search(r\"[a-z-]{0,90}(?=/race-result)\",race_name_string)\n",
    "print(res.group(0))"
   ]
  },
  {
   "cell_type": "code",
   "execution_count": null,
   "id": "7415778f-8934-4d1c-b0fd-08ab7174ba18",
   "metadata": {},
   "outputs": [],
   "source": [
    "res=re.search(r\"[a-z]{0,10}\",'abcdef')\n",
    "print(res.group(0))"
   ]
  },
  {
   "cell_type": "code",
   "execution_count": null,
   "id": "ce884874-2148-4291-9eb1-a5cf6394e6d5",
   "metadata": {},
   "outputs": [],
   "source": [
    "strr = \"this is string example....wow!!! this is really string\"\n",
    "print(strr.replace(\"is\", \"was\"))"
   ]
  },
  {
   "cell_type": "code",
   "execution_count": null,
   "id": "20adbc5b-bd22-451e-9e3d-5eed34ff7338",
   "metadata": {},
   "outputs": [],
   "source": [
    "_,internal_urls1=GetAllWebsiteLinks(races_2022_url[7])"
   ]
  },
  {
   "cell_type": "code",
   "execution_count": null,
   "id": "a5269ba0-f634-4a87-89ff-2ecb6eace606",
   "metadata": {},
   "outputs": [],
   "source": [
    "from datetime import datetime\n",
    "# datetime.strptime(\"21/11/06 16:30\", \"%d/%m/%y %H:%M\")\n",
    "d1=datetime.strptime(\"21 Nov 2006 16:30\", \"%d %b %Y %H:%M\")"
   ]
  },
  {
   "cell_type": "code",
   "execution_count": null,
   "id": "ec0ca810-4094-4999-8bb7-7ee49314053b",
   "metadata": {},
   "outputs": [],
   "source": [
    "from datetime import datetime\n",
    "today = datetime.today()\n",
    "today>d1"
   ]
  },
  {
   "cell_type": "code",
   "execution_count": null,
   "id": "491119b7-d8c4-4547-9b10-44d722a0507b",
   "metadata": {},
   "outputs": [],
   "source": [
    "def PullResultsTable(url):\n",
    "    try:\n",
    "        source=urllib.request.urlopen(url).read()\n",
    "        soup=bs.BeautifulSoup(source,'lxml')\n",
    "        tables=soup.find_all('p',{'class':'f1-timetable--title'})\n",
    "        # print(type(tables))\n",
    "        print(re.search('Sprint',str(tables)))\n",
    "        # return pd.read_html(str(tables[0]), flavor='bs4', header=[0])\n",
    "    except:\n",
    "        return None\n",
    "PullResultsTable('https://www.formula1.com/en/racing/2022/Brazil.html')\n",
    "PullResultsTable('https://www.formula1.com/en/racing/2022/Austria.html')"
   ]
  },
  {
   "cell_type": "code",
   "execution_count": null,
   "id": "6af60fcd-340e-4f54-b211-1ae857157534",
   "metadata": {},
   "outputs": [],
   "source": [
    "'great-britain'.title()"
   ]
  },
  {
   "cell_type": "code",
   "execution_count": null,
   "id": "8fe9baeb-6605-42d1-8f32-d2efa8bc3517",
   "metadata": {},
   "outputs": [],
   "source": [
    "from PullF1ResultsData import *\n",
    "%autoreload 2\n",
    "race_exp=Race('https://www.formula1.com/en/results.html/2022/races/1133/abu-dhabi/race-result.html')\n",
    "race_exp.__dict__"
   ]
  },
  {
   "cell_type": "code",
   "execution_count": null,
   "id": "f721bb67-de17-44b8-93c5-56a1bf7c0ed6",
   "metadata": {},
   "outputs": [],
   "source": [
    "from PullF1ResultsData import *\n",
    "%autoreload 2\n",
    "race_exp=Race(races_2022_url[1])\n",
    "race_exp.__dict__"
   ]
  },
  {
   "cell_type": "code",
   "execution_count": null,
   "id": "3fc2eefc-c547-4fbe-8905-43eb3726e63e",
   "metadata": {},
   "outputs": [],
   "source": [
    "internal_urls1"
   ]
  }
 ],
 "metadata": {
  "kernelspec": {
   "display_name": "Python 3 (ipykernel)",
   "language": "python",
   "name": "python3"
  },
  "language_info": {
   "codemirror_mode": {
    "name": "ipython",
    "version": 3
   },
   "file_extension": ".py",
   "mimetype": "text/x-python",
   "name": "python",
   "nbconvert_exporter": "python",
   "pygments_lexer": "ipython3",
   "version": "3.8.12"
  }
 },
 "nbformat": 4,
 "nbformat_minor": 5
}

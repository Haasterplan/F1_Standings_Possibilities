{
 "cells": [
  {
   "cell_type": "code",
   "execution_count": 26,
   "id": "d821a201-43a0-45d2-a8e6-4b92c1102316",
   "metadata": {},
   "outputs": [
    {
     "name": "stdout",
     "output_type": "stream",
     "text": [
      "The autoreload extension is already loaded. To reload it, use:\n",
      "  %reload_ext autoreload\n"
     ]
    }
   ],
   "source": [
    "import sys\n",
    "import time\n",
    "import urllib\n",
    "import requests\n",
    "import colorama\n",
    "import numpy as np\n",
    "import pandas as pd\n",
    "import pickle as pkl\n",
    "import matplotlib.pyplot as plt\n",
    "import bs4 as bs\n",
    "%load_ext autoreload\n",
    "%autoreload 2"
   ]
  },
  {
   "cell_type": "code",
   "execution_count": 2,
   "id": "77cd4328-84ae-4b94-a8d5-11fe227489b9",
   "metadata": {},
   "outputs": [
    {
     "data": {
      "text/plain": [
       "'/opt/JupyterLab/resources/jlab_server/bin/python'"
      ]
     },
     "execution_count": 2,
     "metadata": {},
     "output_type": "execute_result"
    }
   ],
   "source": [
    "sys.executable"
   ]
  },
  {
   "cell_type": "code",
   "execution_count": 11,
   "id": "955fc6f8-0558-4c6b-9492-5cbef7e44d0e",
   "metadata": {},
   "outputs": [],
   "source": [
    "source = urllib.request.urlopen('https://www.formula1.com/en/results.html').read()"
   ]
  },
  {
   "cell_type": "code",
   "execution_count": 12,
   "id": "5b71fb06-1b27-4397-b252-283c6c870387",
   "metadata": {},
   "outputs": [],
   "source": [
    "soup = bs.BeautifulSoup(source,'lxml')"
   ]
  },
  {
   "cell_type": "code",
   "execution_count": 15,
   "id": "412a005f-3a06-4c3c-98eb-9977a4a13743",
   "metadata": {},
   "outputs": [
    {
     "data": {
      "text/plain": [
       "1"
      ]
     },
     "execution_count": 15,
     "metadata": {},
     "output_type": "execute_result"
    }
   ],
   "source": [
    "tables=soup.find_all('table')\n",
    "len(tables)"
   ]
  },
  {
   "cell_type": "code",
   "execution_count": 14,
   "id": "e8b26b55-4ee5-4ee4-8311-fa60be9f9a0a",
   "metadata": {},
   "outputs": [
    {
     "data": {
      "text/plain": [
       "[    Unnamed: 0      Grand Prix         Date               Winner  \\\n",
       " 0          NaN         Bahrain  20 Mar 2022  Charles Leclerc LEC   \n",
       " 1          NaN    Saudi Arabia  27 Mar 2022   Max Verstappen VER   \n",
       " 2          NaN       Australia  10 Apr 2022  Charles Leclerc LEC   \n",
       " 3          NaN  Emilia Romagna  24 Apr 2022   Max Verstappen VER   \n",
       " 4          NaN           Miami  08 May 2022   Max Verstappen VER   \n",
       " 5          NaN           Spain  22 May 2022   Max Verstappen VER   \n",
       " 6          NaN          Monaco  29 May 2022     Sergio Perez PER   \n",
       " 7          NaN      Azerbaijan  12 Jun 2022   Max Verstappen VER   \n",
       " 8          NaN          Canada  19 Jun 2022   Max Verstappen VER   \n",
       " 9          NaN   Great Britain  03 Jul 2022     Carlos Sainz SAI   \n",
       " 10         NaN         Austria  10 Jul 2022  Charles Leclerc LEC   \n",
       " 11         NaN          France  24 Jul 2022   Max Verstappen VER   \n",
       " 12         NaN         Hungary  31 Jul 2022   Max Verstappen VER   \n",
       " \n",
       "                      Car  Laps         Time  Unnamed: 7  \n",
       " 0                Ferrari    57  1:37:33.584         NaN  \n",
       " 1   Red Bull Racing RBPT    50  1:24:19.293         NaN  \n",
       " 2                Ferrari    58  1:27:46.548         NaN  \n",
       " 3   Red Bull Racing RBPT    63  1:32:07.986         NaN  \n",
       " 4   Red Bull Racing RBPT    57  1:34:24.258         NaN  \n",
       " 5   Red Bull Racing RBPT    66  1:37:20.475         NaN  \n",
       " 6   Red Bull Racing RBPT    64  1:56:30.265         NaN  \n",
       " 7   Red Bull Racing RBPT    51  1:34:05.941         NaN  \n",
       " 8   Red Bull Racing RBPT    70  1:36:21.757         NaN  \n",
       " 9                Ferrari    52  2:17:50.311         NaN  \n",
       " 10               Ferrari    71  1:24:24.312         NaN  \n",
       " 11  Red Bull Racing RBPT    53  1:30:02.112         NaN  \n",
       " 12  Red Bull Racing RBPT    70  1:39:35.912         NaN  ]"
      ]
     },
     "execution_count": 14,
     "metadata": {},
     "output_type": "execute_result"
    }
   ],
   "source": [
    "df = pd.read_html(str(tables[0]), flavor='bs4', header=[0])\n",
    "df"
   ]
  },
  {
   "cell_type": "code",
   "execution_count": 27,
   "id": "f110bbeb-6f95-4f6f-94ca-dc5ff4d1edb3",
   "metadata": {},
   "outputs": [],
   "source": [
    "colorama.init()\n",
    "GREEN = colorama.Fore.GREEN\n",
    "GRAY = colorama.Fore.LIGHTBLACK_EX\n",
    "RESET = colorama.Fore.RESET\n",
    "YELLOW = colorama.Fore.YELLOW"
   ]
  },
  {
   "cell_type": "code",
   "execution_count": 28,
   "id": "b4f6f60e-c264-4a76-96a3-af1d3261fcec",
   "metadata": {},
   "outputs": [],
   "source": [
    "# initialize the set of links (unique links)\n",
    "internal_urls = set()\n",
    "external_urls = set()"
   ]
  },
  {
   "cell_type": "code",
   "execution_count": 47,
   "id": "7494debc-c8ab-4cef-9f76-e69e9eed9574",
   "metadata": {},
   "outputs": [],
   "source": [
    "def is_valid(url):\n",
    "    \"\"\"\n",
    "    Checks whether `url` is a valid URL.\n",
    "    \"\"\"\n",
    "    parsed = urllib.parse.urlparse(url)\n",
    "    return bool(parsed.netloc) and bool(parsed.scheme)"
   ]
  },
  {
   "cell_type": "code",
   "execution_count": 59,
   "id": "5c196b85-4b66-4984-9dfb-309bd42fc9e8",
   "metadata": {},
   "outputs": [],
   "source": [
    "def get_all_website_links(url):\n",
    "    \"\"\"\n",
    "    Returns all URLs that is found on `url` in which it belongs to the same website\n",
    "    \"\"\"\n",
    "    # all URLs of `url`\n",
    "    urls = set()\n",
    "    # domain name of the URL without the protocol\n",
    "    domain_name = urllib.parse.urlparse(url).netloc\n",
    "    soup = bs.BeautifulSoup(requests.get(url).content, \"html.parser\")\n",
    "    for a_tag in soup.findAll(\"a\"):\n",
    "        href = a_tag.attrs.get(\"href\")\n",
    "        if href == \"\" or href is None:\n",
    "            # href empty tag\n",
    "            continue\n",
    "        href = urllib.parse.urljoin(url, href)\n",
    "        parsed_href = urllib.parse.urlparse(href)\n",
    "        # remove URL GET parameters, URL fragments, etc.\n",
    "        href = parsed_href.scheme + \"://\" + parsed_href.netloc + parsed_href.path\n",
    "        if not is_valid(href):\n",
    "            # not a valid URL\n",
    "            continue\n",
    "        if href in internal_urls:\n",
    "            # already in the set\n",
    "            continue\n",
    "        if domain_name not in href:\n",
    "            # external link\n",
    "            if href not in external_urls:\n",
    "                # print(f\"{GRAY}[!] External link: {href}{RESET}\")\n",
    "                external_urls.add(href)\n",
    "            continue\n",
    "        # print(f\"{GREEN}[*] Internal link: {href}{RESET}\")\n",
    "        urls.add(href)\n",
    "        internal_urls.add(href)\n",
    "    return urls,internal_urls\n",
    "url='https://www.formula1.com/en/results.html'\n",
    "urls,internal_urls=get_all_website_links(url)"
   ]
  },
  {
   "cell_type": "code",
   "execution_count": 60,
   "id": "395e88c3-f91a-4b51-b036-0e5cc60e01af",
   "metadata": {},
   "outputs": [
    {
     "data": {
      "text/plain": [
       "[]"
      ]
     },
     "execution_count": 60,
     "metadata": {},
     "output_type": "execute_result"
    }
   ],
   "source": [
    "list(urls)"
   ]
  },
  {
   "cell_type": "code",
   "execution_count": 62,
   "id": "28c4802a-decd-4499-a33c-f02f666dc2be",
   "metadata": {},
   "outputs": [],
   "source": [
    "internal_urls_list=list(internal_urls)"
   ]
  },
  {
   "cell_type": "code",
   "execution_count": 66,
   "id": "846f47c8-3459-4192-9c0f-347133ac9487",
   "metadata": {},
   "outputs": [],
   "source": [
    "import re"
   ]
  },
  {
   "cell_type": "code",
   "execution_count": 72,
   "id": "e6029d64-5215-4603-857b-0a3989c26ada",
   "metadata": {},
   "outputs": [
    {
     "name": "stdout",
     "output_type": "stream",
     "text": [
      "https://www.formula1.com/en/results.html/2022/races/1109/italy/race-result.html\n",
      "https://www.formula1.com/en/results.html/2022/races/1117/hungary/race-result.html\n",
      "https://www.formula1.com/en/results.html/2022/races/1114/great-britain/race-result.html\n",
      "https://www.formula1.com/en/results.html/2022/races/1112/monaco/race-result.html\n",
      "https://www.formula1.com/en/results.html/2022/races/1138/abu-dhabi/race-result.html\n",
      "https://www.formula1.com/en/results.html/2022/races/1126/azerbaijan/race-result.html\n",
      "https://www.formula1.com/en/results.html/2022/races/1125/saudi-arabia/race-result.html\n",
      "https://www.formula1.com/en/results.html/2022/races/1119/netherlands/race-result.html\n",
      "https://www.formula1.com/en/results.html/2022/races/1110/miami/race-result.html\n",
      "https://www.formula1.com/en/results.html/2022/races/1113/canada/race-result.html\n",
      "https://www.formula1.com/en/results.html/2022/races/1134/japan/race-result.html\n",
      "https://www.formula1.com/en/results.html/2022/races/1115/austria/race-result.html\n",
      "https://www.formula1.com/en/results.html/2022/races/1135/united-states/race-result.html\n",
      "https://www.formula1.com/en/results.html/2022/races/1116/france/race-result.html\n",
      "https://www.formula1.com/en/results.html/2022/races/1136/mexico/race-result.html\n",
      "https://www.formula1.com/en/results.html/2022/races/1111/spain/race-result.html\n",
      "https://www.formula1.com/en/results.html/2022/races/1133/singapore/race-result.html\n",
      "https://www.formula1.com/en/results.html/2022/races/1137/brazil/race-result.html\n",
      "https://www.formula1.com/en/results.html/2022/races/1118/belgium/race-result.html\n",
      "https://www.formula1.com/en/results.html/2022/races/1120/italy/race-result.html\n",
      "https://www.formula1.com/en/results.html/2022/races/1124/bahrain/race-result.html\n",
      "https://www.formula1.com/en/results.html/2022/races/1108/australia/race-result.html\n",
      "22\n"
     ]
    }
   ],
   "source": [
    "k=0\n",
    "for link in internal_urls_list:\n",
    "    res=re.search('2022/races/',link)\n",
    "    if res is not None:\n",
    "        print(link)\n",
    "        k+=1\n",
    "print(k)"
   ]
  },
  {
   "cell_type": "code",
   "execution_count": 65,
   "id": "0cebb0a4-6e21-4cb1-8fb8-b5ccd0069722",
   "metadata": {},
   "outputs": [
    {
     "data": {
      "text/plain": [
       "['https://www.formula1.com/en/results/constructor-standings.html',\n",
       " 'https://www.formula1.com/en/results.html/2018/races.html',\n",
       " 'https://www.formula1.com/en/results.html/1975/races.html',\n",
       " 'https://www.formula1.com/en/results.html/1982/races.html',\n",
       " 'https://www.formula1.com/en/results.html/1997/races.html',\n",
       " 'https://www.formula1.com/en/toolbar/guidelines.html',\n",
       " 'https://www.formula1.com/en/results.html/2022/races/1109/italy/race-result.html',\n",
       " 'https://www.formula1.com/en/results.html/1950/races.html',\n",
       " 'https://www.formula1.com/en/results.html/1981/races.html',\n",
       " 'https://www.formula1.com/en/results.html/1955/races.html',\n",
       " 'https://www.formula1.com/en/results.html/1994/races.html',\n",
       " 'https://www.formula1.com/en/results.html/2022/races/1117/hungary/race-result.html',\n",
       " 'https://www.formula1.com/en/toolbar/legal-notices.html',\n",
       " 'https://www.formula1.com/en/toolbar/faq.html',\n",
       " 'https://www.formula1.com/en/video.html',\n",
       " 'https://www.formula1.com/en/drivers/lando-norris.html',\n",
       " 'https://www.formula1.com/en/results.html/2010/races.html',\n",
       " 'https://www.formula1.com/en/drivers/mick-schumacher.html',\n",
       " 'https://www.formula1.com/en/results.html/1979/races.html',\n",
       " 'https://www.formula1.com/en/toolbar/become-an-affiliate.html',\n",
       " 'https://www.formula1.com/en/results.html/2019/races.html',\n",
       " 'https://www.formula1.com/en/toolbar/gender-pay-report.html',\n",
       " 'https://www.formula1.com/en.html',\n",
       " 'https://www.formula1.com/en/drivers/hall-of-fame.html',\n",
       " 'https://www.formula1.com/en/results.html/1966/races.html',\n",
       " 'https://www.formula1.com/en/subscribe-to-f1-tv.html',\n",
       " 'https://www.formula1.com/en/results.html/1961/races.html',\n",
       " 'https://www.formula1.com/en/results.html/2007/races.html',\n",
       " 'https://www.formula1.com/en/results.html/1980/races.html',\n",
       " 'https://www.formula1.com/en/results.html/2017/races.html',\n",
       " 'https://www.formula1.com/en/gaming/f1-clash.html',\n",
       " 'https://www.formula1.com/en/results.html/2021/races.html',\n",
       " 'https://www.formula1.com/en/results.html/1984/races.html',\n",
       " 'https://www.formula1.com/en/drivers/valtteri-bottas.html',\n",
       " 'https://www.formula1.com/en/results.html/1956/races.html',\n",
       " 'https://www.formula1.com/en/results.html',\n",
       " 'https://www.formula1.com/en/drivers/alexander-albon.html',\n",
       " 'https://www.formula1.com/en/drivers/kevin-magnussen.html',\n",
       " 'https://www.formula1.com/en/results.html/2014/races.html',\n",
       " 'https://www.formula1.com/en/drivers/max-verstappen.html',\n",
       " 'https://www.formula1.com/en/results.html/1993/races.html',\n",
       " 'https://www.formula1.com/en/results.html/1999/races.html',\n",
       " 'https://www.formula1.com/en/toolbar/code-of-conduct.html',\n",
       " 'https://www.formula1.com/en/drivers/pierre-gasly.html',\n",
       " 'https://www.formula1.com/en/results.html/2022/races/1114/great-britain/race-result.html',\n",
       " 'https://www.formula1.com/en/results.html/2022/races/1112/monaco/race-result.html',\n",
       " 'https://www.formula1.com/en/results.html/2022/races/1138/abu-dhabi/race-result.html',\n",
       " 'https://www.formula1.com/en/results.html/2003/races.html',\n",
       " 'https://www.formula1.com/en/results.html/1978/races.html',\n",
       " 'https://www.formula1.com/en/results.html/2002/races.html',\n",
       " 'https://www.formula1.com/en/results.html/2022/drivers.html',\n",
       " 'https://www.formula1.com/en/results.html/2020/races.html',\n",
       " 'https://www.formula1.com/en/toolbar/contacts.html',\n",
       " 'https://www.formula1.com/en/results/archive-1950-2016.html',\n",
       " 'https://www.formula1.com/en/results.html/1989/races.html',\n",
       " 'https://www.formula1.com/en/results.html/2022/races/1126/azerbaijan/race-result.html',\n",
       " 'https://www.formula1.com/en/results.html/1991/races.html',\n",
       " 'https://www.formula1.com/en/drivers/lewis-hamilton.html',\n",
       " 'https://www.formula1.com/en/f1-live.html',\n",
       " 'https://www.formula1.com/en/gaming/f1-22-official-console-game.html',\n",
       " 'https://www.formula1.com/en/results.html/1968/races.html',\n",
       " 'https://www.formula1.com/en/toolbar/f1-fan-voice.html',\n",
       " 'https://www.formula1.com/en/results.html/1971/races.html',\n",
       " 'https://www.formula1.com/en/results.html/2022/races/1125/saudi-arabia/race-result.html',\n",
       " 'https://www.formula1.com/en/teams.html',\n",
       " 'https://www.formula1.com/en/teams/Alpine.html',\n",
       " 'https://www.formula1.com/en/results.html/2009/races.html',\n",
       " 'https://www.formula1.com/en/results.html/1967/races.html',\n",
       " 'https://www.formula1.com/en/results.html/2022/races/1119/netherlands/race-result.html',\n",
       " 'https://www.formula1.com/en/teams/AlphaTauri.html',\n",
       " 'https://www.formula1.com/en/results.html/1957/races.html',\n",
       " 'https://www.formula1.com/en/results.html/1973/races.html',\n",
       " 'https://www.formula1.com/en/results/latest.html',\n",
       " 'https://www.formula1.com/en/results.html/2022/races/1110/miami/race-result.html',\n",
       " 'https://www.formula1.com/en/drivers/charles-leclerc.html',\n",
       " 'https://www.formula1.com/en/toolbar/terms-of-use.html',\n",
       " 'https://www.formula1.com/en/teams/Williams.html',\n",
       " 'https://www.formula1.com/en/results.html/1965/races.html',\n",
       " 'https://www.formula1.com/en/latest.html',\n",
       " 'https://www.formula1.com/en/f1-live-lite.html',\n",
       " 'https://www.formula1.com/en/results.html/2022/races/1113/canada/race-result.html',\n",
       " 'https://www.formula1.com/en/results/awards.html',\n",
       " 'https://www.formula1.com/en/results.html/1996/races.html',\n",
       " 'https://www.formula1.com/en/drivers/daniel-ricciardo.html',\n",
       " 'https://www.formula1.com/en/results.html/1976/races.html',\n",
       " 'https://www.formula1.com/en/results.html/2008/races.html',\n",
       " 'https://www.formula1.com/en/drivers/yuki-tsunoda.html',\n",
       " 'https://www.formula1.com/en/toolbar/official-f1-race-programme.html',\n",
       " 'https://www.formula1.com/en/gaming/f1-manager-2022.html',\n",
       " 'https://www.formula1.com/en/drivers/nicholas-latifi.html',\n",
       " 'https://www.formula1.com/en/results.html/1986/races.html',\n",
       " 'https://www.formula1.com/en/drivers/lance-stroll.html',\n",
       " 'https://www.formula1.com/en/gaming/f1-mobile-racing.html',\n",
       " 'https://www.formula1.com/en/results.html/1972/races.html',\n",
       " 'https://www.formula1.com/en/drivers/esteban-ocon.html',\n",
       " 'https://www.formula1.com/en/drivers/sergio-perez.html',\n",
       " 'https://www.formula1.com/en/drivers/george-russell.html',\n",
       " 'https://www.formula1.com/en/gaming/fantasy.html',\n",
       " 'https://www.formula1.com/en/results.html/2022/races/1134/japan/race-result.html',\n",
       " 'https://www.formula1.com/en/results.html/2022/team.html',\n",
       " 'https://www.formula1.com/en/results.html/1960/races.html',\n",
       " 'https://www.formula1.com/en/toolbar/Anti-Bribery.html',\n",
       " 'https://www.formula1.com/en/results.html/2022/races/1115/austria/race-result.html',\n",
       " 'https://www.formula1.com/en/toolbar/statement-of-commitment-to-respect-for-human-rights.html',\n",
       " 'https://www.formula1.com/en/toolbar/partners.html',\n",
       " 'https://www.formula1.com/en/results.html/2001/races.html',\n",
       " 'https://www.formula1.com/en/results.html/2022/races/1135/united-states/race-result.html',\n",
       " 'https://www.formula1.com/en/results.html/1963/races.html',\n",
       " 'https://www.formula1.com/en/teams/Red-Bull-Racing.html',\n",
       " 'https://www.formula1.com/en/results.html/1974/races.html',\n",
       " 'https://www.formula1.com/en/teams/Alfa-Romeo-Racing.html',\n",
       " 'https://www.formula1.com/en/teams/Ferrari.html',\n",
       " 'https://www.formula1.com/en/results.html/2005/races.html',\n",
       " 'https://www.formula1.com/en/racing/2022.html',\n",
       " 'https://www.formula1.com/en/results.html/2022/races.html',\n",
       " 'https://www.formula1.com/en/drivers/fernando-alonso.html',\n",
       " 'https://www.formula1.com/en/results.html/1969/races.html',\n",
       " 'https://www.formula1.com/en/results.html/1970/races.html',\n",
       " 'https://www.formula1.com/en/results.html/2022/races/1116/france/race-result.html',\n",
       " 'https://www.formula1.com/en/results.html/1977/races.html',\n",
       " 'https://www.formula1.com/en/results.html/1958/races.html',\n",
       " 'https://www.formula1.com/en/results.html/1992/races.html',\n",
       " 'https://www.formula1.com/en/results.html/1990/races.html',\n",
       " 'https://www.formula1.com/en/results.html/1983/races.html',\n",
       " 'https://www.formula1.com/en/toolbar/privacy-policy.html',\n",
       " 'https://www.formula1.com/en/results.html/2000/races.html',\n",
       " 'https://www.formula1.com/en/results.html/2022/fastest-laps.html',\n",
       " 'https://www.formula1.com/en/results.html/2022/races/1136/mexico/race-result.html',\n",
       " 'https://www.formula1.com',\n",
       " 'https://www.formula1.com/en/results.html/1954/races.html',\n",
       " 'https://www.formula1.com/en/results.html/2004/races.html',\n",
       " 'https://www.formula1.com/en/teams/Aston-Martin.html',\n",
       " 'https://www.formula1.com/en/results.html/2012/races.html',\n",
       " 'https://www.formula1.com/en/results.html/1988/races.html',\n",
       " 'https://www.formula1.com/en/results.html/2006/races.html',\n",
       " 'https://www.formula1.com/en/drivers.html',\n",
       " 'https://www.formula1.com/en/results.html/1953/races.html',\n",
       " 'https://www.formula1.com/en/toolbar/beyond-the-grid-f1-podcast.html',\n",
       " 'https://www.formula1.com/en/teams/Haas-F1-Team.html',\n",
       " 'https://www.formula1.com/en/results.html/2015/races.html',\n",
       " 'https://www.formula1.com/en/teams/McLaren.html',\n",
       " 'https://www.formula1.com/en/results.html/1985/races.html',\n",
       " 'https://www.formula1.com/en/results.html/1959/races.html',\n",
       " 'https://www.formula1.com/en/drivers/guanyu-zhou.html',\n",
       " 'https://www.formula1.com/en/results.html/2022/races/1111/spain/race-result.html',\n",
       " 'https://www.formula1.com/en/gaming/f1-play.html',\n",
       " 'https://www.formula1.com/en/results.html/2013/races.html',\n",
       " 'https://www.formula1.com/en/gaming/esports.html',\n",
       " 'https://www.formula1.com/en/results.html/1962/races.html',\n",
       " 'https://www.formula1.com/en/results.html/1995/races.html',\n",
       " 'https://www.formula1.com/en/toolbar/f1-corporate-site.html',\n",
       " 'https://www.formula1.com/en/teams/Mercedes.html',\n",
       " 'https://www.formula1.com/en/results.html/2022/races/1133/singapore/race-result.html',\n",
       " 'https://www.formula1.com/en/results.html/1987/races.html',\n",
       " 'https://www.formula1.com/en/results.html/2016/races.html',\n",
       " 'https://www.formula1.com/en/results.html/1952/races.html',\n",
       " 'https://www.formula1.com/en/results.html/1998/races.html',\n",
       " 'https://www.formula1.com/en/toolbar/cookies-policy.html',\n",
       " 'https://www.formula1.com/en/results/driver-standings.html',\n",
       " 'https://www.formula1.com/en/drivers/sebastian-vettel.html',\n",
       " 'https://www.formula1.com/en/results.html/1964/races.html',\n",
       " 'https://www.formula1.com/en/toolbar/modern-slavery-statement.html',\n",
       " 'https://www.formula1.com/en/championship/inside-f1/rules-regs.html',\n",
       " 'https://www.formula1.com/en/drivers/carlos-sainz.html',\n",
       " 'https://www.formula1.com/en/results.html/2022/races/1137/brazil/race-result.html',\n",
       " 'https://www.formula1.com/en/results.html/2022/races/1118/belgium/race-result.html',\n",
       " 'https://www.formula1.com/en/results.html/2022/races/1120/italy/race-result.html',\n",
       " 'https://www.formula1.com/en/toolbar/extreme-innovation-series.html',\n",
       " 'https://www.formula1.com/en/results.html/2011/races.html',\n",
       " 'https://www.formula1.com/en/racing/2022/race-programmes.html',\n",
       " 'https://www.formula1.com/en/results.html/1951/races.html',\n",
       " 'https://www.formula1.com/en/results.html/2022/races/1124/bahrain/race-result.html',\n",
       " 'https://www.formula1.com/en/gaming.html',\n",
       " 'https://www.formula1.com/en/results.html/2022/races/1108/australia/race-result.html']"
      ]
     },
     "execution_count": 65,
     "metadata": {},
     "output_type": "execute_result"
    }
   ],
   "source": [
    "internal_urls_list"
   ]
  },
  {
   "cell_type": "code",
   "execution_count": null,
   "id": "a4b970ee-03fa-42c1-9c60-13e510811f51",
   "metadata": {},
   "outputs": [],
   "source": []
  }
 ],
 "metadata": {
  "kernelspec": {
   "display_name": "Python 3 (ipykernel)",
   "language": "python",
   "name": "python3"
  },
  "language_info": {
   "codemirror_mode": {
    "name": "ipython",
    "version": 3
   },
   "file_extension": ".py",
   "mimetype": "text/x-python",
   "name": "python",
   "nbconvert_exporter": "python",
   "pygments_lexer": "ipython3",
   "version": "3.8.12"
  }
 },
 "nbformat": 4,
 "nbformat_minor": 5
}
